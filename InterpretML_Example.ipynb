{
 "cells": [
  {
   "cell_type": "markdown",
   "id": "further-holder",
   "metadata": {},
   "source": [
    "# Explain Model using InterpretML\n",
    "\n",
    "Install the library using \n",
    "\n",
    "```\n",
    "pip install interpret\n",
    "```"
   ]
  },
  {
   "cell_type": "code",
   "execution_count": 1,
   "id": "controlled-punch",
   "metadata": {},
   "outputs": [],
   "source": [
    "import pandas as pd\n",
    "import numpy as np\n",
    "import matplotlib.pyplot as plt\n",
    "\n",
    "from interpret.glassbox import ExplainableBoostingClassifier\n",
    "from sklearn.model_selection import train_test_split"
   ]
  },
  {
   "cell_type": "code",
   "execution_count": 2,
   "id": "assumed-arrow",
   "metadata": {},
   "outputs": [],
   "source": [
    "df = pd.read_csv('data/winequality-red.csv') \n",
    "df['quality'] = df['quality'].astype(int)"
   ]
  },
  {
   "cell_type": "code",
   "execution_count": 3,
   "id": "incorporated-april",
   "metadata": {},
   "outputs": [],
   "source": [
    "Y = df['quality']\n",
    "X =  df[['fixed acidity', 'volatile acidity', 'citric acid', 'residual sugar',\n",
    "       'chlorides', 'free sulfur dioxide', 'total sulfur dioxide', 'density',\n",
    "       'pH', 'sulphates', 'alcohol']]\n",
    "\n",
    "X_featurenames = X.columns\n",
    "X_train, X_test, Y_train, Y_test = train_test_split(X, Y, test_size = 0.2)"
   ]
  },
  {
   "cell_type": "markdown",
   "id": "emotional-purpose",
   "metadata": {},
   "source": [
    "### Data Exploration"
   ]
  },
  {
   "cell_type": "code",
   "execution_count": 4,
   "id": "express-return",
   "metadata": {},
   "outputs": [
    {
     "data": {
      "text/html": [
       "<!-- http://127.0.0.1:7001/140726075240144/ -->\n",
       "<iframe src=\"http://127.0.0.1:7001/140726075240144/\" width=100% height=800 frameBorder=\"0\"></iframe>"
      ]
     },
     "metadata": {},
     "output_type": "display_data"
    }
   ],
   "source": [
    "from interpret import show\n",
    "from interpret.data import Marginal\n",
    "\n",
    "marginal = Marginal().explain_data(X_train, Y_train, name = 'Train Data')\n",
    "show(marginal)"
   ]
  },
  {
   "cell_type": "markdown",
   "id": "blind-trauma",
   "metadata": {},
   "source": [
    "### EBM (Explainable Boosting Machine) Training"
   ]
  },
  {
   "cell_type": "code",
   "execution_count": 5,
   "id": "norman-scholarship",
   "metadata": {},
   "outputs": [
    {
     "data": {
      "text/plain": [
       "ExplainableBoostingRegressor(feature_names=['fixed acidity', 'volatile acidity',\n",
       "                                            'citric acid', 'residual sugar',\n",
       "                                            'chlorides', 'free sulfur dioxide',\n",
       "                                            'total sulfur dioxide', 'density',\n",
       "                                            'pH', 'sulphates', 'alcohol',\n",
       "                                            'total sulfur dioxide x sulphates',\n",
       "                                            'total sulfur dioxide x pH',\n",
       "                                            'citric acid x total sulfur '\n",
       "                                            'dioxide',\n",
       "                                            'volatile acidity x total sulfur '\n",
       "                                            'dioxide',\n",
       "                                            'citric acid x free sulfur diox...\n",
       "                                            'free sulfur dioxide x pH',\n",
       "                                            'residual sugar x density'],\n",
       "                             feature_types=['continuous', 'continuous',\n",
       "                                            'continuous', 'continuous',\n",
       "                                            'continuous', 'continuous',\n",
       "                                            'continuous', 'continuous',\n",
       "                                            'continuous', 'continuous',\n",
       "                                            'continuous', 'interaction',\n",
       "                                            'interaction', 'interaction',\n",
       "                                            'interaction', 'interaction',\n",
       "                                            'interaction', 'interaction',\n",
       "                                            'interaction', 'interaction',\n",
       "                                            'interaction'],\n",
       "                             random_state=1234)"
      ]
     },
     "execution_count": 5,
     "metadata": {},
     "output_type": "execute_result"
    }
   ],
   "source": [
    "from interpret.glassbox import ExplainableBoostingRegressor, LinearRegression, RegressionTree\n",
    "seed = 1234\n",
    "\n",
    "lr = LinearRegression(random_state=seed)\n",
    "lr.fit(X_train, Y_train)\n",
    "\n",
    "rt = RegressionTree(random_state=seed)\n",
    "rt.fit(X_train, Y_train)\n",
    "\n",
    "ebm = ExplainableBoostingRegressor(random_state=seed, learning_rate=0.01, n_jobs=-2)\n",
    "ebm.fit(X_train, Y_train)"
   ]
  },
  {
   "cell_type": "markdown",
   "id": "independent-gossip",
   "metadata": {},
   "source": [
    "### Performance of EBM model"
   ]
  },
  {
   "cell_type": "code",
   "execution_count": 6,
   "id": "sized-stylus",
   "metadata": {
    "scrolled": false
   },
   "outputs": [
    {
     "data": {
      "text/html": [
       "<!-- http://127.0.0.1:7001/140726176205584/ -->\n",
       "<iframe src=\"http://127.0.0.1:7001/140726176205584/\" width=100% height=800 frameBorder=\"0\"></iframe>"
      ]
     },
     "metadata": {},
     "output_type": "display_data"
    },
    {
     "data": {
      "text/html": [
       "<!-- http://127.0.0.1:7001/140726176978384/ -->\n",
       "<iframe src=\"http://127.0.0.1:7001/140726176978384/\" width=100% height=800 frameBorder=\"0\"></iframe>"
      ]
     },
     "metadata": {},
     "output_type": "display_data"
    },
    {
     "data": {
      "text/html": [
       "<!-- http://127.0.0.1:7001/140726176977040/ -->\n",
       "<iframe src=\"http://127.0.0.1:7001/140726176977040/\" width=100% height=800 frameBorder=\"0\"></iframe>"
      ]
     },
     "metadata": {},
     "output_type": "display_data"
    }
   ],
   "source": [
    "from interpret import show\n",
    "from interpret.perf import RegressionPerf\n",
    "\n",
    "ebm_perf = RegressionPerf(ebm.predict).explain_perf(X_test, Y_test, name='EBM')\n",
    "lr_perf = RegressionPerf(lr.predict).explain_perf(X_test, Y_test, name='Linear Regression')\n",
    "rt_perf = RegressionPerf(rt.predict).explain_perf(X_test, Y_test, name='Regression Tree')\n",
    "show(ebm_perf)\n",
    "show(lr_perf)\n",
    "show(rt_perf)"
   ]
  },
  {
   "cell_type": "markdown",
   "id": "steady-ordering",
   "metadata": {},
   "source": [
    "### Interpreting all features"
   ]
  },
  {
   "cell_type": "code",
   "execution_count": 7,
   "id": "generous-explosion",
   "metadata": {},
   "outputs": [
    {
     "data": {
      "text/html": [
       "<!-- http://127.0.0.1:7001/140726155722640/ -->\n",
       "<iframe src=\"http://127.0.0.1:7001/140726155722640/\" width=100% height=800 frameBorder=\"0\"></iframe>"
      ]
     },
     "metadata": {},
     "output_type": "display_data"
    }
   ],
   "source": [
    "ebm_global = ebm.explain_global(name='EBM')\n",
    "show(ebm_global)"
   ]
  },
  {
   "cell_type": "markdown",
   "id": "engaged-hebrew",
   "metadata": {},
   "source": [
    "### Interpreting Individual Features"
   ]
  },
  {
   "cell_type": "code",
   "execution_count": 9,
   "id": "accurate-decrease",
   "metadata": {},
   "outputs": [
    {
     "data": {
      "text/html": [
       "<!-- http://127.0.0.1:7001/140726157747984/ -->\n",
       "<iframe src=\"http://127.0.0.1:7001/140726157747984/\" width=100% height=800 frameBorder=\"0\"></iframe>"
      ]
     },
     "metadata": {},
     "output_type": "display_data"
    }
   ],
   "source": [
    "ebm_local = ebm.explain_local(X_test, Y_test, name='EBM')\n",
    "show(ebm_local)"
   ]
  },
  {
   "cell_type": "markdown",
   "id": "adjusted-tennis",
   "metadata": {},
   "source": [
    "\n",
    "### Everything in a Dashboard"
   ]
  },
  {
   "cell_type": "code",
   "execution_count": 12,
   "id": "complimentary-killer",
   "metadata": {},
   "outputs": [
    {
     "data": {
      "text/html": [
       "<!-- http://127.0.0.1:7001/140726175817152/ -->\n",
       "<a href=\"http://127.0.0.1:7001/140726175817152/\" target=\"_new\">Open in new window</a><iframe src=\"http://127.0.0.1:7001/140726175817152/\" width=100% height=800 frameBorder=\"0\"></iframe>"
      ]
     },
     "metadata": {},
     "output_type": "display_data"
    }
   ],
   "source": [
    "show([marginal, lr_perf, rt_perf, ebm_perf, ebm_global, ebm_local])"
   ]
  },
  {
   "cell_type": "code",
   "execution_count": null,
   "id": "difficult-reggae",
   "metadata": {},
   "outputs": [],
   "source": []
  }
 ],
 "metadata": {
  "kernelspec": {
   "display_name": "Python 3",
   "language": "python",
   "name": "python3"
  },
  "language_info": {
   "codemirror_mode": {
    "name": "ipython",
    "version": 3
   },
   "file_extension": ".py",
   "mimetype": "text/x-python",
   "name": "python",
   "nbconvert_exporter": "python",
   "pygments_lexer": "ipython3",
   "version": "3.7.10"
  }
 },
 "nbformat": 4,
 "nbformat_minor": 5
}
