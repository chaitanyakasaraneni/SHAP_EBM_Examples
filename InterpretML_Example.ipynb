{
 "cells": [
  {
   "cell_type": "markdown",
   "id": "further-holder",
   "metadata": {},
   "source": [
    "# Explain Model using InterpretML\n",
    "\n",
    "Install the library using \n",
    "\n",
    "```\n",
    "    pip install interpret\n",
    "```"
   ]
  },
  {
   "cell_type": "code",
   "execution_count": 1,
   "id": "controlled-punch",
   "metadata": {},
   "outputs": [],
   "source": [
    "import pandas as pd\n",
    "import numpy as np\n",
    "import matplotlib.pyplot as plt\n",
    "\n",
    "from interpret.glassbox import ExplainableBoostingClassifier\n",
    "from sklearn.model_selection import train_test_split"
   ]
  },
  {
   "cell_type": "code",
   "execution_count": 2,
   "id": "assumed-arrow",
   "metadata": {},
   "outputs": [],
   "source": [
    "df = pd.read_csv('data/winequality-red.csv') \n",
    "df['quality'] = df['quality'].astype(int)"
   ]
  },
  {
   "cell_type": "code",
   "execution_count": 3,
   "id": "incorporated-april",
   "metadata": {},
   "outputs": [],
   "source": [
    "Y = df['quality']\n",
    "X =  df[['fixed acidity', 'volatile acidity', 'citric acid', 'residual sugar',\n",
    "       'chlorides', 'free sulfur dioxide', 'total sulfur dioxide', 'density',\n",
    "       'pH', 'sulphates', 'alcohol']]\n",
    "\n",
    "X_featurenames = X.columns\n",
    "X_train, X_test, Y_train, Y_test = train_test_split(X, Y, test_size = 0.2)"
   ]
  },
  {
   "cell_type": "markdown",
   "id": "emotional-purpose",
   "metadata": {},
   "source": [
    "### Data Exploration"
   ]
  },
  {
   "cell_type": "code",
   "execution_count": 4,
   "id": "express-return",
   "metadata": {},
   "outputs": [
    {
     "output_type": "display_data",
     "data": {
      "text/html": "<!-- http://127.0.0.1:7001/140419365273936/ -->\n<iframe src=\"http://127.0.0.1:7001/140419365273936/\" width=100% height=800 frameBorder=\"0\"></iframe>"
     },
     "metadata": {}
    }
   ],
   "source": [
    "from interpret import show\n",
    "from interpret.data import Marginal\n",
    "\n",
    "marginal = Marginal().explain_data(X_train, Y_train, name = 'Train Data')\n",
    "show(marginal)"
   ]
  },
  {
   "cell_type": "markdown",
   "id": "blind-trauma",
   "metadata": {},
   "source": [
    "### EBM (Explainable Boosting Machine) Training"
   ]
  },
  {
   "cell_type": "code",
   "execution_count": 5,
   "id": "norman-scholarship",
   "metadata": {},
   "outputs": [
    {
     "output_type": "execute_result",
     "data": {
      "text/plain": [
       "ExplainableBoostingRegressor(feature_names=['fixed acidity', 'volatile acidity',\n",
       "                                            'citric acid', 'residual sugar',\n",
       "                                            'chlorides', 'free sulfur dioxide',\n",
       "                                            'total sulfur dioxide', 'density',\n",
       "                                            'pH', 'sulphates', 'alcohol',\n",
       "                                            'citric acid x total sulfur '\n",
       "                                            'dioxide',\n",
       "                                            'total sulfur dioxide x sulphates',\n",
       "                                            'citric acid x free sulfur dioxide',\n",
       "                                            'total sulfur dioxide x pH',\n",
       "                                            'free sulfur dioxide x sulphates',\n",
       "                                            'cit...\n",
       "                                            'residual sugar x free sulfur '\n",
       "                                            'dioxide'],\n",
       "                             feature_types=['continuous', 'continuous',\n",
       "                                            'continuous', 'continuous',\n",
       "                                            'continuous', 'continuous',\n",
       "                                            'continuous', 'continuous',\n",
       "                                            'continuous', 'continuous',\n",
       "                                            'continuous', 'interaction',\n",
       "                                            'interaction', 'interaction',\n",
       "                                            'interaction', 'interaction',\n",
       "                                            'interaction', 'interaction',\n",
       "                                            'interaction', 'interaction',\n",
       "                                            'interaction'],\n",
       "                             random_state=1234)"
      ]
     },
     "metadata": {},
     "execution_count": 5
    }
   ],
   "source": [
    "from interpret.glassbox import ExplainableBoostingRegressor, LinearRegression, RegressionTree\n",
    "seed = 1234\n",
    "\n",
    "lr = LinearRegression(random_state=seed)\n",
    "lr.fit(X_train, Y_train)\n",
    "\n",
    "rt = RegressionTree(random_state=seed)\n",
    "rt.fit(X_train, Y_train)\n",
    "\n",
    "ebm = ExplainableBoostingRegressor(random_state=seed, learning_rate=0.01, n_jobs=-2)\n",
    "ebm.fit(X_train, Y_train)"
   ]
  },
  {
   "cell_type": "markdown",
   "id": "independent-gossip",
   "metadata": {},
   "source": [
    "### Explaining the Performance of EBM models"
   ]
  },
  {
   "cell_type": "code",
   "execution_count": 6,
   "id": "sized-stylus",
   "metadata": {
    "scrolled": false
   },
   "outputs": [
    {
     "output_type": "display_data",
     "data": {
      "text/html": "<!-- http://127.0.0.1:7001/140419365282320/ -->\n<iframe src=\"http://127.0.0.1:7001/140419365282320/\" width=100% height=800 frameBorder=\"0\"></iframe>"
     },
     "metadata": {}
    },
    {
     "output_type": "display_data",
     "data": {
      "text/html": "<!-- http://127.0.0.1:7001/140419428367440/ -->\n<iframe src=\"http://127.0.0.1:7001/140419428367440/\" width=100% height=800 frameBorder=\"0\"></iframe>"
     },
     "metadata": {}
    },
    {
     "output_type": "display_data",
     "data": {
      "text/html": "<!-- http://127.0.0.1:7001/140419428366416/ -->\n<iframe src=\"http://127.0.0.1:7001/140419428366416/\" width=100% height=800 frameBorder=\"0\"></iframe>"
     },
     "metadata": {}
    }
   ],
   "source": [
    "from interpret import show\n",
    "from interpret.perf import RegressionPerf\n",
    "\n",
    "ebm_perf = RegressionPerf(ebm.predict).explain_perf(X_test, Y_test, name='EBM')\n",
    "lr_perf = RegressionPerf(lr.predict).explain_perf(X_test, Y_test, name='Linear Regression')\n",
    "rt_perf = RegressionPerf(rt.predict).explain_perf(X_test, Y_test, name='Regression Tree')\n",
    "show(ebm_perf)\n",
    "show(lr_perf)\n",
    "show(rt_perf)"
   ]
  },
  {
   "cell_type": "markdown",
   "id": "steady-ordering",
   "metadata": {},
   "source": [
    "### Interpreting all features - Global Interpretability\n",
    "\n",
    "Global explanations are useful for understanding what a model finds important, as well as identifying potential flaws in its decision making\n",
    "\n",
    "For this global explanation, the initial summary page shows the most important features overall. You can use the dropdown to search, filter, and select individual features to drill down deeper into."
   ]
  },
  {
   "cell_type": "code",
   "execution_count": 7,
   "id": "generous-explosion",
   "metadata": {},
   "outputs": [
    {
     "output_type": "display_data",
     "data": {
      "text/html": "<!-- http://127.0.0.1:7001/140419365252112/ -->\n<iframe src=\"http://127.0.0.1:7001/140419365252112/\" width=100% height=800 frameBorder=\"0\"></iframe>"
     },
     "metadata": {}
    }
   ],
   "source": [
    "ebm_global = ebm.explain_global(name='EBM')\n",
    "show(ebm_global)"
   ]
  },
  {
   "cell_type": "code",
   "execution_count": 8,
   "id": "organic-relative",
   "metadata": {},
   "outputs": [
    {
     "output_type": "display_data",
     "data": {
      "text/html": "<!-- http://127.0.0.1:7001/140419428203408/ -->\n<iframe src=\"http://127.0.0.1:7001/140419428203408/\" width=100% height=800 frameBorder=\"0\"></iframe>"
     },
     "metadata": {}
    }
   ],
   "source": [
    "lr_global = lr.explain_global(name=\"Linear Regression\")\n",
    "show(lr_global)"
   ]
  },
  {
   "cell_type": "code",
   "execution_count": 9,
   "id": "danish-output",
   "metadata": {
    "scrolled": false
   },
   "outputs": [
    {
     "output_type": "display_data",
     "data": {
      "text/html": "<!-- http://127.0.0.1:7001/140419427150608/ -->\n<iframe src=\"http://127.0.0.1:7001/140419427150608/\" width=100% height=800 frameBorder=\"0\"></iframe>"
     },
     "metadata": {}
    }
   ],
   "source": [
    "rt_global = rt.explain_global(name=\"Regression Tree\")\n",
    "show(rt_global)"
   ]
  },
  {
   "cell_type": "markdown",
   "id": "engaged-hebrew",
   "metadata": {},
   "source": [
    "### Interpreting Individual Features - Local Interpretability on Test Data\n",
    "\n",
    "Blackbox interpretability methods generally work by perturbing input data repeatedly passing it through the pipeline, and observing how the final prediction changes.\n",
    "\n",
    "As a result both global and local explanations are approximate, and may sometimes be inaccurate. Be cautious of the results in high-stakes environments."
   ]
  },
  {
   "cell_type": "code",
   "execution_count": 10,
   "id": "accurate-decrease",
   "metadata": {
    "scrolled": false
   },
   "outputs": [
    {
     "output_type": "display_data",
     "data": {
      "text/html": "<!-- http://127.0.0.1:7001/140419427299984/ -->\n<iframe src=\"http://127.0.0.1:7001/140419427299984/\" width=100% height=800 frameBorder=\"0\"></iframe>"
     },
     "metadata": {}
    }
   ],
   "source": [
    "ebm_local = ebm.explain_local(X_test, Y_test, name='EBM')\n",
    "show(ebm_local)"
   ]
  },
  {
   "cell_type": "code",
   "execution_count": 11,
   "id": "tight-skating",
   "metadata": {},
   "outputs": [
    {
     "output_type": "display_data",
     "data": {
      "text/html": "<!-- http://127.0.0.1:7001/140419430292944/ -->\n<iframe src=\"http://127.0.0.1:7001/140419430292944/\" width=100% height=800 frameBorder=\"0\"></iframe>"
     },
     "metadata": {}
    }
   ],
   "source": [
    "lr_local = lr.explain_local(X_test, Y_test, name=\"Linear Regression\")\n",
    "show(lr_local)"
   ]
  },
  {
   "cell_type": "code",
   "execution_count": 12,
   "id": "committed-standing",
   "metadata": {},
   "outputs": [
    {
     "output_type": "display_data",
     "data": {
      "text/html": "<!-- http://127.0.0.1:7001/140419446913872/ -->\n<iframe src=\"http://127.0.0.1:7001/140419446913872/\" width=100% height=800 frameBorder=\"0\"></iframe>"
     },
     "metadata": {}
    }
   ],
   "source": [
    "rt_local = rt.explain_local(X_test, Y_test, name=\"Regression Tree\")\n",
    "show(rt_local)"
   ]
  },
  {
   "cell_type": "markdown",
   "id": "adjusted-tennis",
   "metadata": {},
   "source": [
    "\n",
    "### Everything in a Dashboard"
   ]
  },
  {
   "cell_type": "code",
   "execution_count": 13,
   "id": "complimentary-killer",
   "metadata": {},
   "outputs": [
    {
     "output_type": "display_data",
     "data": {
      "text/html": "<!-- http://127.0.0.1:7001/140419463513744/ -->\n<a href=\"http://127.0.0.1:7001/140419463513744/\" target=\"_new\">Open in new window</a><iframe src=\"http://127.0.0.1:7001/140419463513744/\" width=100% height=800 frameBorder=\"0\"></iframe>"
     },
     "metadata": {}
    }
   ],
   "source": [
    "show([marginal, lr_perf, ebm_perf, rt_perf, lr_global, ebm_global, rt_global, lr_local, ebm_local, rt_local])"
   ]
  },
  {
   "cell_type": "code",
   "execution_count": null,
   "id": "difficult-reggae",
   "metadata": {},
   "outputs": [],
   "source": []
  }
 ],
 "metadata": {
  "kernelspec": {
   "name": "python3710jvsc74a57bd04338be3bed1a3f7913b13d391696feab5550a571812e1f3d9d86d11b90e3f0a8",
   "display_name": "Python 3.7.10 64-bit ('sjsu': conda)"
  },
  "language_info": {
   "codemirror_mode": {
    "name": "ipython",
    "version": 3
   },
   "file_extension": ".py",
   "mimetype": "text/x-python",
   "name": "python",
   "nbconvert_exporter": "python",
   "pygments_lexer": "ipython3",
   "version": "3.7.10"
  }
 },
 "nbformat": 4,
 "nbformat_minor": 5
}